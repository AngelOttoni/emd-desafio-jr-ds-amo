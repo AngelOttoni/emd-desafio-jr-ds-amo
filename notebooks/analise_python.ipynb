{
 "cells": [
  {
   "cell_type": "code",
   "execution_count": null,
   "metadata": {
    "notebookRunGroups": {
     "groupValue": "2"
    }
   },
   "outputs": [],
   "source": [
    "# If necessary, install the library\n",
    "# pip install basedosdados"
   ]
  },
  {
   "cell_type": "code",
   "execution_count": null,
   "metadata": {},
   "outputs": [],
   "source": [
    "# Import the necessary libraries\n",
    "import basedosdados as bd\n",
    "import pandas as pd"
   ]
  },
  {
   "cell_type": "markdown",
   "metadata": {},
   "source": [
    "# **Localização de chamados do 1746**\n",
    "## **1. Quantos chamados foram abertos no dia 01/04/2023?**"
   ]
  },
  {
   "cell_type": "code",
   "execution_count": 59,
   "metadata": {},
   "outputs": [],
   "source": [
    "# Define the billing project ID to be used for executing queries in BigQuery\n",
    "# This project ID will be 'charged' for the queries executed in the datario dataset\n",
    "billing_project_id = 'datario-project'"
   ]
  },
  {
   "cell_type": "code",
   "execution_count": 66,
   "metadata": {},
   "outputs": [],
   "source": [
    "def calls_by_date(date: str):\n",
    "    '''\n",
    "    Queries the total number of calls opened on a specific date.\n",
    "\n",
    "    Parameters:\n",
    "    date (str): The date for which to retrieve the total number of calls, formatted as 'YYYY-MM-DD'.\n",
    "\n",
    "    Returns:\n",
    "    DataFrame: A DataFrame containing the total number of calls for the specified date.\n",
    "    '''\n",
    "    \n",
    "    query1 = f'''\n",
    "    SELECT COUNT(*) AS total_chamados\n",
    "    FROM `datario.adm_central_atendimento_1746.chamado`\n",
    "    WHERE DATE(data_inicio) = '{date}';\n",
    "    '''\n",
    "    df1 = bd.read_sql(query1, billing_project_id)\n",
    "    return df1"
   ]
  },
  {
   "cell_type": "code",
   "execution_count": 67,
   "metadata": {},
   "outputs": [
    {
     "name": "stderr",
     "output_type": "stream",
     "text": [
      "Downloading: 100%|██████████| 1/1 [00:00<00:00,  2.11rows/s]\n"
     ]
    }
   ],
   "source": [
    "# Retrieve the total number of calls for April 1, 2023\n",
    "answer1 = calls_by_date('2023-04-01')"
   ]
  },
  {
   "cell_type": "code",
   "execution_count": 68,
   "metadata": {},
   "outputs": [
    {
     "data": {
      "text/html": [
       "<div>\n",
       "<style scoped>\n",
       "    .dataframe tbody tr th:only-of-type {\n",
       "        vertical-align: middle;\n",
       "    }\n",
       "\n",
       "    .dataframe tbody tr th {\n",
       "        vertical-align: top;\n",
       "    }\n",
       "\n",
       "    .dataframe thead th {\n",
       "        text-align: right;\n",
       "    }\n",
       "</style>\n",
       "<table border=\"1\" class=\"dataframe\">\n",
       "  <thead>\n",
       "    <tr style=\"text-align: right;\">\n",
       "      <th></th>\n",
       "      <th>total_chamados</th>\n",
       "    </tr>\n",
       "  </thead>\n",
       "  <tbody>\n",
       "    <tr>\n",
       "      <th>0</th>\n",
       "      <td>1756</td>\n",
       "    </tr>\n",
       "  </tbody>\n",
       "</table>\n",
       "</div>"
      ],
      "text/plain": [
       "   total_chamados\n",
       "0            1756"
      ]
     },
     "metadata": {},
     "output_type": "display_data"
    }
   ],
   "source": [
    "# Display the result\n",
    "display(answer1)"
   ]
  },
  {
   "cell_type": "markdown",
   "metadata": {},
   "source": [
    "## **2. Qual o tipo de chamado que mais teve chamados abertos no dia 01/04/2023?**"
   ]
  },
  {
   "cell_type": "code",
   "execution_count": 70,
   "metadata": {},
   "outputs": [],
   "source": [
    "def most_frequent_type(date: str):\n",
    "    '''\n",
    "    Queries the most frequently opened type of call for a specific date.\n",
    "\n",
    "    Parameters:\n",
    "    date (str): The date for which to retrieve the most frequent call type, formatted as 'YYYY-MM-DD'.\n",
    "\n",
    "    Returns:\n",
    "    DataFrame: A DataFrame containing the most frequently opened call type and its count.\n",
    "    '''\n",
    "    \n",
    "    query2 = f'''\n",
    "    SELECT tipo, COUNT(*) AS type_total\n",
    "    FROM `datario.adm_central_atendimento_1746.chamado`\n",
    "    WHERE DATE(data_inicio) = '{date}'\n",
    "    GROUP BY tipo\n",
    "    ORDER BY type_total DESC\n",
    "    LIMIT 1;\n",
    "    '''\n",
    "    df2 = bd.read_sql(query2, billing_project_id)\n",
    "    return df2"
   ]
  },
  {
   "cell_type": "code",
   "execution_count": 71,
   "metadata": {},
   "outputs": [
    {
     "name": "stderr",
     "output_type": "stream",
     "text": [
      "Downloading: 100%|██████████| 1/1 [00:00<00:00,  2.17rows/s]\n"
     ]
    }
   ],
   "source": [
    "# Retrieve the most frequent type of call for April 1, 2023\n",
    "answer2 = most_frequent_type('2023-04-01')"
   ]
  },
  {
   "cell_type": "code",
   "execution_count": 72,
   "metadata": {},
   "outputs": [
    {
     "data": {
      "text/html": [
       "<div>\n",
       "<style scoped>\n",
       "    .dataframe tbody tr th:only-of-type {\n",
       "        vertical-align: middle;\n",
       "    }\n",
       "\n",
       "    .dataframe tbody tr th {\n",
       "        vertical-align: top;\n",
       "    }\n",
       "\n",
       "    .dataframe thead th {\n",
       "        text-align: right;\n",
       "    }\n",
       "</style>\n",
       "<table border=\"1\" class=\"dataframe\">\n",
       "  <thead>\n",
       "    <tr style=\"text-align: right;\">\n",
       "      <th></th>\n",
       "      <th>tipo</th>\n",
       "      <th>type_total</th>\n",
       "    </tr>\n",
       "  </thead>\n",
       "  <tbody>\n",
       "    <tr>\n",
       "      <th>0</th>\n",
       "      <td>Estacionamento irregular</td>\n",
       "      <td>366</td>\n",
       "    </tr>\n",
       "  </tbody>\n",
       "</table>\n",
       "</div>"
      ],
      "text/plain": [
       "                       tipo  type_total\n",
       "0  Estacionamento irregular         366"
      ]
     },
     "metadata": {},
     "output_type": "display_data"
    }
   ],
   "source": [
    "# Display the result\n",
    "display(answer2)"
   ]
  },
  {
   "cell_type": "markdown",
   "metadata": {},
   "source": [
    "## **3. Quais os nomes dos 3 bairros que mais tiveram chamados abertos nesse dia?**"
   ]
  },
  {
   "cell_type": "code",
   "execution_count": 73,
   "metadata": {},
   "outputs": [],
   "source": [
    "def neighborhoods_w_most_calls(date: str):\n",
    "    '''\n",
    "    Queries the neighborhoods with the most calls on a specific date.\n",
    "\n",
    "    Parameters:\n",
    "    date (str): The date for which to retrieve the top neighborhoods by call volume, formatted as 'YYYY-MM-DD'.\n",
    "\n",
    "    Returns:\n",
    "    DataFrame: A DataFrame containing the top 3 neighborhoods with the highest number of calls for the specified date.\n",
    "    '''\n",
    "    \n",
    "    query3 = f'''\n",
    "    SELECT b.nome, \n",
    "    COUNT(*) AS total_chamados_bairro\n",
    "    FROM `datario.adm_central_atendimento_1746.chamado` AS c\n",
    "    INNER JOIN `datario.dados_mestres.bairro` AS b\n",
    "    ON c.id_bairro = b.id_bairro\n",
    "    WHERE DATE(c.data_inicio) = '{date}'\n",
    "    GROUP BY b.nome\n",
    "    ORDER BY total_chamados_bairro DESC\n",
    "    LIMIT 3;\n",
    "    '''\n",
    "    df3 = bd.read_sql(query3, billing_project_id)\n",
    "    return df3"
   ]
  },
  {
   "cell_type": "code",
   "execution_count": 74,
   "metadata": {},
   "outputs": [
    {
     "name": "stderr",
     "output_type": "stream",
     "text": [
      "Downloading: 100%|██████████| 3/3 [00:00<00:00,  8.14rows/s]\n"
     ]
    }
   ],
   "source": [
    "# Retrieve the top 3 neighborhoods with the highest number of calls for April 1, 2023\n",
    "answer3 = neighborhoods_w_most_calls('2023-04-01')"
   ]
  },
  {
   "cell_type": "code",
   "execution_count": 75,
   "metadata": {},
   "outputs": [
    {
     "data": {
      "text/html": [
       "<div>\n",
       "<style scoped>\n",
       "    .dataframe tbody tr th:only-of-type {\n",
       "        vertical-align: middle;\n",
       "    }\n",
       "\n",
       "    .dataframe tbody tr th {\n",
       "        vertical-align: top;\n",
       "    }\n",
       "\n",
       "    .dataframe thead th {\n",
       "        text-align: right;\n",
       "    }\n",
       "</style>\n",
       "<table border=\"1\" class=\"dataframe\">\n",
       "  <thead>\n",
       "    <tr style=\"text-align: right;\">\n",
       "      <th></th>\n",
       "      <th>nome</th>\n",
       "      <th>total_chamados_bairro</th>\n",
       "    </tr>\n",
       "  </thead>\n",
       "  <tbody>\n",
       "    <tr>\n",
       "      <th>0</th>\n",
       "      <td>Campo Grande</td>\n",
       "      <td>113</td>\n",
       "    </tr>\n",
       "    <tr>\n",
       "      <th>1</th>\n",
       "      <td>Tijuca</td>\n",
       "      <td>89</td>\n",
       "    </tr>\n",
       "    <tr>\n",
       "      <th>2</th>\n",
       "      <td>Barra da Tijuca</td>\n",
       "      <td>59</td>\n",
       "    </tr>\n",
       "  </tbody>\n",
       "</table>\n",
       "</div>"
      ],
      "text/plain": [
       "              nome  total_chamados_bairro\n",
       "0     Campo Grande                    113\n",
       "1           Tijuca                     89\n",
       "2  Barra da Tijuca                     59"
      ]
     },
     "metadata": {},
     "output_type": "display_data"
    }
   ],
   "source": [
    "# Display the result\n",
    "display(answer3)"
   ]
  },
  {
   "cell_type": "markdown",
   "metadata": {},
   "source": [
    "## **4. Qual o nome da subprefeitura com mais chamados abertos nesse dia?**"
   ]
  },
  {
   "cell_type": "code",
   "execution_count": 76,
   "metadata": {},
   "outputs": [],
   "source": [
    "def subprefecture_with_most_calls(date: str):\n",
    "    '''\n",
    "    Query to find the subprefecture with the highest number of calls on a specific date.\n",
    "\n",
    "    Parameters:\n",
    "    date (str): The date for which to find the subprefecture with the most calls (in 'YYYY-MM-DD' format).\n",
    "\n",
    "    Returns:\n",
    "    DataFrame: A DataFrame containing the subprefecture with the highest number of calls and the total number of calls.\n",
    "    '''\n",
    "    \n",
    "    query4 = f'''\n",
    "    SELECT \n",
    "        b.subprefeitura AS subprefeitura_name,\n",
    "        COUNT(*) AS total_chamados_subprefeitura\n",
    "    FROM \n",
    "        `datario.adm_central_atendimento_1746.chamado` AS c\n",
    "    LEFT JOIN \n",
    "        `datario.dados_mestres.bairro` AS b\n",
    "    ON \n",
    "        c.id_bairro = b.id_bairro\n",
    "    WHERE \n",
    "        DATE(c.data_inicio) = '{date}'\n",
    "    GROUP BY \n",
    "        b.subprefeitura\n",
    "    ORDER BY \n",
    "        total_chamados_subprefeitura DESC\n",
    "    LIMIT 1;\n",
    "    '''\n",
    "    df4 = bd.read_sql(query4, billing_project_id)\n",
    "    return df4"
   ]
  },
  {
   "cell_type": "code",
   "execution_count": 77,
   "metadata": {},
   "outputs": [
    {
     "name": "stderr",
     "output_type": "stream",
     "text": [
      "Downloading: 100%|██████████| 1/1 [00:00<00:00,  2.43rows/s]\n"
     ]
    }
   ],
   "source": [
    "# Retrieve the subprefecture with the highest number of calls for April 1, 2023\n",
    "answer4 = subprefecture_with_most_calls('2023-04-01')"
   ]
  },
  {
   "cell_type": "code",
   "execution_count": 78,
   "metadata": {},
   "outputs": [
    {
     "data": {
      "text/html": [
       "<div>\n",
       "<style scoped>\n",
       "    .dataframe tbody tr th:only-of-type {\n",
       "        vertical-align: middle;\n",
       "    }\n",
       "\n",
       "    .dataframe tbody tr th {\n",
       "        vertical-align: top;\n",
       "    }\n",
       "\n",
       "    .dataframe thead th {\n",
       "        text-align: right;\n",
       "    }\n",
       "</style>\n",
       "<table border=\"1\" class=\"dataframe\">\n",
       "  <thead>\n",
       "    <tr style=\"text-align: right;\">\n",
       "      <th></th>\n",
       "      <th>subprefeitura_name</th>\n",
       "      <th>total_chamados_subprefeitura</th>\n",
       "    </tr>\n",
       "  </thead>\n",
       "  <tbody>\n",
       "    <tr>\n",
       "      <th>0</th>\n",
       "      <td>Zona Norte</td>\n",
       "      <td>510</td>\n",
       "    </tr>\n",
       "  </tbody>\n",
       "</table>\n",
       "</div>"
      ],
      "text/plain": [
       "  subprefeitura_name  total_chamados_subprefeitura\n",
       "0         Zona Norte                           510"
      ]
     },
     "metadata": {},
     "output_type": "display_data"
    }
   ],
   "source": [
    "# Display the result\n",
    "display(answer4)"
   ]
  },
  {
   "cell_type": "markdown",
   "metadata": {},
   "source": [
    "## **5. Existe algum chamado aberto nesse dia que não foi associado a um bairro ou subprefeitura na tabela de bairros? Se sim, por que isso acontece?"
   ]
  },
  {
   "cell_type": "code",
   "execution_count": 79,
   "metadata": {},
   "outputs": [],
   "source": [
    "def calls_without_assigned_neighborhood_or_subprefecture(date: str):\n",
    "    '''\n",
    "    Queries the number of calls on a specific date that are not associated with a neighborhood\n",
    "    or subprefecture in the neighborhood table.\n",
    "\n",
    "    Args:\n",
    "        date (str): The date to filter the calls in 'YYYY-MM-DD' format.\n",
    "\n",
    "    Returns:\n",
    "        pandas.DataFrame: A DataFrame containing the count of calls without assigned \n",
    "        neighborhood or subprefecture for the specified date, along with their details if available.\n",
    "        \n",
    "    Notes:\n",
    "        This function checks for calls that do not have a corresponding entry in the\n",
    "        neighborhood table, which might be due to data entry issues or missing records.\n",
    "    '''\n",
    "    \n",
    "    query5 = f'''\n",
    "    SELECT \n",
    "        c.id_chamado,\n",
    "        c.data_inicio,\n",
    "        c.id_bairro,\n",
    "        b.id_bairro AS bairro_associado\n",
    "    FROM \n",
    "        `datario.adm_central_atendimento_1746.chamado` AS c\n",
    "    LEFT JOIN \n",
    "        `datario.dados_mestres.bairro` AS b\n",
    "    ON \n",
    "        c.id_bairro = b.id_bairro\n",
    "    WHERE \n",
    "        DATE(c.data_inicio) = '2023-04-01'\n",
    "        AND b.id_bairro IS NULL;\n",
    "    '''\n",
    "    df5 = bd.read_sql(query5, billing_project_id)\n",
    "    return df5"
   ]
  },
  {
   "cell_type": "code",
   "execution_count": 80,
   "metadata": {},
   "outputs": [
    {
     "name": "stderr",
     "output_type": "stream",
     "text": [
      "Downloading: 100%|██████████| 73/73 [00:00<00:00, 175.11rows/s]\n"
     ]
    }
   ],
   "source": [
    "# Retrieve the subprefecture with the highest number of calls for April 1, 2023\n",
    "answer5 = calls_without_assigned_neighborhood_or_subprefecture('2023-04-01')"
   ]
  },
  {
   "cell_type": "code",
   "execution_count": 81,
   "metadata": {},
   "outputs": [
    {
     "data": {
      "text/html": [
       "<div>\n",
       "<style scoped>\n",
       "    .dataframe tbody tr th:only-of-type {\n",
       "        vertical-align: middle;\n",
       "    }\n",
       "\n",
       "    .dataframe tbody tr th {\n",
       "        vertical-align: top;\n",
       "    }\n",
       "\n",
       "    .dataframe thead th {\n",
       "        text-align: right;\n",
       "    }\n",
       "</style>\n",
       "<table border=\"1\" class=\"dataframe\">\n",
       "  <thead>\n",
       "    <tr style=\"text-align: right;\">\n",
       "      <th></th>\n",
       "      <th>id_chamado</th>\n",
       "      <th>data_inicio</th>\n",
       "      <th>id_bairro</th>\n",
       "      <th>bairro_associado</th>\n",
       "    </tr>\n",
       "  </thead>\n",
       "  <tbody>\n",
       "    <tr>\n",
       "      <th>0</th>\n",
       "      <td>18517061</td>\n",
       "      <td>2023-04-01 11:47:17</td>\n",
       "      <td>None</td>\n",
       "      <td>None</td>\n",
       "    </tr>\n",
       "    <tr>\n",
       "      <th>1</th>\n",
       "      <td>18517502</td>\n",
       "      <td>2023-04-01 14:34:27</td>\n",
       "      <td>None</td>\n",
       "      <td>None</td>\n",
       "    </tr>\n",
       "    <tr>\n",
       "      <th>2</th>\n",
       "      <td>18517263</td>\n",
       "      <td>2023-04-01 12:58:25</td>\n",
       "      <td>None</td>\n",
       "      <td>None</td>\n",
       "    </tr>\n",
       "    <tr>\n",
       "      <th>3</th>\n",
       "      <td>18517485</td>\n",
       "      <td>2023-04-01 14:30:06</td>\n",
       "      <td>None</td>\n",
       "      <td>None</td>\n",
       "    </tr>\n",
       "    <tr>\n",
       "      <th>4</th>\n",
       "      <td>18517022</td>\n",
       "      <td>2023-04-01 11:34:57</td>\n",
       "      <td>None</td>\n",
       "      <td>None</td>\n",
       "    </tr>\n",
       "    <tr>\n",
       "      <th>...</th>\n",
       "      <td>...</td>\n",
       "      <td>...</td>\n",
       "      <td>...</td>\n",
       "      <td>...</td>\n",
       "    </tr>\n",
       "    <tr>\n",
       "      <th>68</th>\n",
       "      <td>18516523</td>\n",
       "      <td>2023-04-01 08:58:14</td>\n",
       "      <td>None</td>\n",
       "      <td>None</td>\n",
       "    </tr>\n",
       "    <tr>\n",
       "      <th>69</th>\n",
       "      <td>18517483</td>\n",
       "      <td>2023-04-01 14:29:42</td>\n",
       "      <td>None</td>\n",
       "      <td>None</td>\n",
       "    </tr>\n",
       "    <tr>\n",
       "      <th>70</th>\n",
       "      <td>18518366</td>\n",
       "      <td>2023-04-01 21:52:56</td>\n",
       "      <td>None</td>\n",
       "      <td>None</td>\n",
       "    </tr>\n",
       "    <tr>\n",
       "      <th>71</th>\n",
       "      <td>18517314</td>\n",
       "      <td>2023-04-01 13:18:43</td>\n",
       "      <td>None</td>\n",
       "      <td>None</td>\n",
       "    </tr>\n",
       "    <tr>\n",
       "      <th>72</th>\n",
       "      <td>18516414</td>\n",
       "      <td>2023-04-01 08:15:04</td>\n",
       "      <td>None</td>\n",
       "      <td>None</td>\n",
       "    </tr>\n",
       "  </tbody>\n",
       "</table>\n",
       "<p>73 rows × 4 columns</p>\n",
       "</div>"
      ],
      "text/plain": [
       "   id_chamado         data_inicio id_bairro bairro_associado\n",
       "0    18517061 2023-04-01 11:47:17      None             None\n",
       "1    18517502 2023-04-01 14:34:27      None             None\n",
       "2    18517263 2023-04-01 12:58:25      None             None\n",
       "3    18517485 2023-04-01 14:30:06      None             None\n",
       "4    18517022 2023-04-01 11:34:57      None             None\n",
       "..        ...                 ...       ...              ...\n",
       "68   18516523 2023-04-01 08:58:14      None             None\n",
       "69   18517483 2023-04-01 14:29:42      None             None\n",
       "70   18518366 2023-04-01 21:52:56      None             None\n",
       "71   18517314 2023-04-01 13:18:43      None             None\n",
       "72   18516414 2023-04-01 08:15:04      None             None\n",
       "\n",
       "[73 rows x 4 columns]"
      ]
     },
     "metadata": {},
     "output_type": "display_data"
    }
   ],
   "source": [
    "# Show the result\n",
    "display(answer5)"
   ]
  },
  {
   "cell_type": "markdown",
   "metadata": {},
   "source": [
    "# **Chamados do 1746 em grandes eventos**\n",
    "## **6. Quantos chamados com o subtipo \"Perturbação do sossego\" foram abertos desde 01/01/2022 até 31/12/2023 (incluindo extremidades)?**"
   ]
  },
  {
   "cell_type": "code",
   "execution_count": 82,
   "metadata": {},
   "outputs": [],
   "source": [
    "def count_noise_disturbance_calls(start_date: str, end_date: str):\n",
    "    '''\n",
    "    Count the number of calls with the subtype \"Perturbação do sossego\" \n",
    "    that were opened between the given start and end dates (inclusive).\n",
    "\n",
    "    Parameters:\n",
    "    start_date (str): The start date for the date range in 'YYYY-MM-DD' format.\n",
    "    end_date (str): The end date for the date range in 'YYYY-MM-DD' format.\n",
    "\n",
    "    Returns:\n",
    "    pandas.DataFrame: A DataFrame containing the total number of calls with the specified subtype.\n",
    "    '''\n",
    "    \n",
    "    query6 = f'''\n",
    "    SELECT \n",
    "        COUNT(*) AS total_chamados\n",
    "    FROM \n",
    "        `datario.adm_central_atendimento_1746.chamado`\n",
    "    WHERE \n",
    "        subtipo = 'Perturbação do sossego'\n",
    "        AND DATE(data_inicio) BETWEEN '{start_date}' AND '{end_date}';\n",
    "    '''\n",
    "    df6 = bd.read_sql(query6, billing_project_id)\n",
    "    return df6"
   ]
  },
  {
   "cell_type": "code",
   "execution_count": 83,
   "metadata": {},
   "outputs": [
    {
     "name": "stderr",
     "output_type": "stream",
     "text": [
      "Downloading: 100%|██████████| 1/1 [00:00<00:00,  2.26rows/s]\n"
     ]
    }
   ],
   "source": [
    "# Retrieve the total number of calls with the subtype \"Perturbação do sossego\" \n",
    "# opened from 01/01/2022 to 31/12/2023\n",
    "answer6 = count_noise_disturbance_calls('2022-01-01', '2023-12-31')"
   ]
  },
  {
   "cell_type": "code",
   "execution_count": 84,
   "metadata": {},
   "outputs": [
    {
     "data": {
      "text/html": [
       "<div>\n",
       "<style scoped>\n",
       "    .dataframe tbody tr th:only-of-type {\n",
       "        vertical-align: middle;\n",
       "    }\n",
       "\n",
       "    .dataframe tbody tr th {\n",
       "        vertical-align: top;\n",
       "    }\n",
       "\n",
       "    .dataframe thead th {\n",
       "        text-align: right;\n",
       "    }\n",
       "</style>\n",
       "<table border=\"1\" class=\"dataframe\">\n",
       "  <thead>\n",
       "    <tr style=\"text-align: right;\">\n",
       "      <th></th>\n",
       "      <th>total_chamados</th>\n",
       "    </tr>\n",
       "  </thead>\n",
       "  <tbody>\n",
       "    <tr>\n",
       "      <th>0</th>\n",
       "      <td>42830</td>\n",
       "    </tr>\n",
       "  </tbody>\n",
       "</table>\n",
       "</div>"
      ],
      "text/plain": [
       "   total_chamados\n",
       "0           42830"
      ]
     },
     "metadata": {},
     "output_type": "display_data"
    }
   ],
   "source": [
    "# Show the result\n",
    "display(answer6)"
   ]
  },
  {
   "cell_type": "markdown",
   "metadata": {},
   "source": [
    "## **7. Selecione os chamados com esse subtipo que foram abertos durante os eventos contidos na tabela de eventos (Reveillon, Carnaval e Rock in Rio).**"
   ]
  },
  {
   "cell_type": "code",
   "execution_count": 88,
   "metadata": {},
   "outputs": [],
   "source": [
    "def subtype_events_calls(start_date: str, end_date: str):\n",
    "    '''\n",
    "    Retrieve details of calls with the subtype \"Perturbação do sossego\" that occurred during specific events\n",
    "    between the specified start and end dates. The events considered are \"Reveillon\", \"Carnaval\", and \"Rock in Rio\".\n",
    "    \n",
    "    Parameters:\n",
    "    start_date (str): The start date for the date range in 'YYYY-MM-DD' format.\n",
    "    end_date (str): The end date for the date range in 'YYYY-MM-DD' format.\n",
    "    \n",
    "    Returns:\n",
    "    pandas.DataFrame: A DataFrame containing the ID of the calls, the start date of the calls, the event name, \n",
    "    the start date of the event, and the end date of the event.\n",
    "    '''\n",
    "    query7 = f'''\n",
    "    SELECT \n",
    "        c.id_chamado,\n",
    "        c.data_inicio,\n",
    "        e.evento,\n",
    "        e.data_inicial AS data_inicio_evento,\n",
    "        e.data_final AS data_fim_evento\n",
    "    FROM \n",
    "        `datario.adm_central_atendimento_1746.chamado` AS c\n",
    "    JOIN \n",
    "        `datario.turismo_fluxo_visitantes.rede_hoteleira_ocupacao_eventos` AS e\n",
    "    ON \n",
    "        DATE(c.data_inicio) BETWEEN DATE(e.data_inicial) AND DATE(e.data_final)\n",
    "    WHERE \n",
    "        c.subtipo = 'Perturbação do sossego'\n",
    "        AND e.evento IN ('Reveillon', 'Carnaval', 'Rock in Rio');\n",
    "    '''\n",
    "    df7 = bd.read_sql(query7, billing_project_id)\n",
    "    return df7"
   ]
  },
  {
   "cell_type": "code",
   "execution_count": 91,
   "metadata": {},
   "outputs": [
    {
     "name": "stderr",
     "output_type": "stream",
     "text": [
      "Downloading: 100%|██████████| 1214/1214 [00:00<00:00, 1328.20rows/s]\n"
     ]
    }
   ],
   "source": [
    "# Retrieve details of calls with the subtype \"Perturbação do sossego\" \n",
    "# that occurred during specific events between the specified start and end dates.\n",
    "answer7 = subtype_events_calls('2022-01-01', '2023-12-31')"
   ]
  },
  {
   "cell_type": "code",
   "execution_count": 92,
   "metadata": {},
   "outputs": [
    {
     "data": {
      "text/html": [
       "<div>\n",
       "<style scoped>\n",
       "    .dataframe tbody tr th:only-of-type {\n",
       "        vertical-align: middle;\n",
       "    }\n",
       "\n",
       "    .dataframe tbody tr th {\n",
       "        vertical-align: top;\n",
       "    }\n",
       "\n",
       "    .dataframe thead th {\n",
       "        text-align: right;\n",
       "    }\n",
       "</style>\n",
       "<table border=\"1\" class=\"dataframe\">\n",
       "  <thead>\n",
       "    <tr style=\"text-align: right;\">\n",
       "      <th></th>\n",
       "      <th>id_chamado</th>\n",
       "      <th>data_inicio</th>\n",
       "      <th>evento</th>\n",
       "      <th>data_inicio_evento</th>\n",
       "      <th>data_fim_evento</th>\n",
       "    </tr>\n",
       "  </thead>\n",
       "  <tbody>\n",
       "    <tr>\n",
       "      <th>0</th>\n",
       "      <td>17684038</td>\n",
       "      <td>2022-09-10 18:54:32</td>\n",
       "      <td>Rock in Rio</td>\n",
       "      <td>2022-09-08</td>\n",
       "      <td>2022-09-11</td>\n",
       "    </tr>\n",
       "    <tr>\n",
       "      <th>1</th>\n",
       "      <td>17661605</td>\n",
       "      <td>2022-09-02 21:17:23</td>\n",
       "      <td>Rock in Rio</td>\n",
       "      <td>2022-09-02</td>\n",
       "      <td>2022-09-04</td>\n",
       "    </tr>\n",
       "    <tr>\n",
       "      <th>2</th>\n",
       "      <td>17683780</td>\n",
       "      <td>2022-09-10 16:05:02</td>\n",
       "      <td>Rock in Rio</td>\n",
       "      <td>2022-09-08</td>\n",
       "      <td>2022-09-11</td>\n",
       "    </tr>\n",
       "    <tr>\n",
       "      <th>3</th>\n",
       "      <td>17661731</td>\n",
       "      <td>2022-09-02 23:20:51</td>\n",
       "      <td>Rock in Rio</td>\n",
       "      <td>2022-09-02</td>\n",
       "      <td>2022-09-04</td>\n",
       "    </tr>\n",
       "    <tr>\n",
       "      <th>4</th>\n",
       "      <td>17661721</td>\n",
       "      <td>2022-09-02 23:04:39</td>\n",
       "      <td>Rock in Rio</td>\n",
       "      <td>2022-09-02</td>\n",
       "      <td>2022-09-04</td>\n",
       "    </tr>\n",
       "    <tr>\n",
       "      <th>...</th>\n",
       "      <td>...</td>\n",
       "      <td>...</td>\n",
       "      <td>...</td>\n",
       "      <td>...</td>\n",
       "      <td>...</td>\n",
       "    </tr>\n",
       "    <tr>\n",
       "      <th>1209</th>\n",
       "      <td>18080145</td>\n",
       "      <td>2023-01-01 17:59:13</td>\n",
       "      <td>Reveillon</td>\n",
       "      <td>2022-12-30</td>\n",
       "      <td>2023-01-01</td>\n",
       "    </tr>\n",
       "    <tr>\n",
       "      <th>1210</th>\n",
       "      <td>18079544</td>\n",
       "      <td>2022-12-31 21:37:09</td>\n",
       "      <td>Reveillon</td>\n",
       "      <td>2022-12-30</td>\n",
       "      <td>2023-01-01</td>\n",
       "    </tr>\n",
       "    <tr>\n",
       "      <th>1211</th>\n",
       "      <td>18079154</td>\n",
       "      <td>2022-12-31 14:03:28</td>\n",
       "      <td>Reveillon</td>\n",
       "      <td>2022-12-30</td>\n",
       "      <td>2023-01-01</td>\n",
       "    </tr>\n",
       "    <tr>\n",
       "      <th>1212</th>\n",
       "      <td>18075963</td>\n",
       "      <td>2022-12-30 03:20:28</td>\n",
       "      <td>Reveillon</td>\n",
       "      <td>2022-12-30</td>\n",
       "      <td>2023-01-01</td>\n",
       "    </tr>\n",
       "    <tr>\n",
       "      <th>1213</th>\n",
       "      <td>18078366</td>\n",
       "      <td>2022-12-30 23:03:15</td>\n",
       "      <td>Reveillon</td>\n",
       "      <td>2022-12-30</td>\n",
       "      <td>2023-01-01</td>\n",
       "    </tr>\n",
       "  </tbody>\n",
       "</table>\n",
       "<p>1214 rows × 5 columns</p>\n",
       "</div>"
      ],
      "text/plain": [
       "     id_chamado         data_inicio       evento data_inicio_evento  \\\n",
       "0      17684038 2022-09-10 18:54:32  Rock in Rio         2022-09-08   \n",
       "1      17661605 2022-09-02 21:17:23  Rock in Rio         2022-09-02   \n",
       "2      17683780 2022-09-10 16:05:02  Rock in Rio         2022-09-08   \n",
       "3      17661731 2022-09-02 23:20:51  Rock in Rio         2022-09-02   \n",
       "4      17661721 2022-09-02 23:04:39  Rock in Rio         2022-09-02   \n",
       "...         ...                 ...          ...                ...   \n",
       "1209   18080145 2023-01-01 17:59:13    Reveillon         2022-12-30   \n",
       "1210   18079544 2022-12-31 21:37:09    Reveillon         2022-12-30   \n",
       "1211   18079154 2022-12-31 14:03:28    Reveillon         2022-12-30   \n",
       "1212   18075963 2022-12-30 03:20:28    Reveillon         2022-12-30   \n",
       "1213   18078366 2022-12-30 23:03:15    Reveillon         2022-12-30   \n",
       "\n",
       "     data_fim_evento  \n",
       "0         2022-09-11  \n",
       "1         2022-09-04  \n",
       "2         2022-09-11  \n",
       "3         2022-09-04  \n",
       "4         2022-09-04  \n",
       "...              ...  \n",
       "1209      2023-01-01  \n",
       "1210      2023-01-01  \n",
       "1211      2023-01-01  \n",
       "1212      2023-01-01  \n",
       "1213      2023-01-01  \n",
       "\n",
       "[1214 rows x 5 columns]"
      ]
     },
     "metadata": {},
     "output_type": "display_data"
    }
   ],
   "source": [
    "# Show the result\n",
    "display(answer7)"
   ]
  },
  {
   "cell_type": "markdown",
   "metadata": {},
   "source": [
    "\n",
    "## **8. Quantos chamados desse subtipo foram abertos em cada evento?**"
   ]
  },
  {
   "cell_type": "code",
   "execution_count": 93,
   "metadata": {},
   "outputs": [],
   "source": [
    "def count_noise_disturbance_calls_per_event(start_date: str, end_date: str):\n",
    "    '''\n",
    "    Retrieve the total number of calls for the \"Noise Disturbance\" subtype\n",
    "    associated with specific events within a given date range.\n",
    "    \n",
    "    This function queries the database to find the total number of calls \n",
    "    categorized as \"Noise Disturbance\" for each specified event ('Reveillon', \n",
    "    'Carnaval', 'Rock in Rio') that occurred between the provided start and \n",
    "    end dates. It returns the total calls per event.\n",
    "    \n",
    "    Parameters:\n",
    "        start_date (str): The start date of the range to search for calls, \n",
    "                          in 'YYYY-MM-DD' format.\n",
    "        end_date (str): The end date of the range to search for calls, \n",
    "                        in 'YYYY-MM-DD' format.\n",
    "    \n",
    "    Returns:\n",
    "        DataFrame: A DataFrame containing the event names and the corresponding\n",
    "                   total number of noise disturbance calls for each event.\n",
    "    '''\n",
    "\n",
    "    query8 = f'''\n",
    "    SELECT \n",
    "        e.evento,\n",
    "        COUNT(c.id_chamado) AS total_chamados_evento\n",
    "    FROM \n",
    "        `datario.adm_central_atendimento_1746.chamado` AS c\n",
    "    JOIN \n",
    "        `datario.turismo_fluxo_visitantes.rede_hoteleira_ocupacao_eventos` AS e\n",
    "    ON \n",
    "        DATE(c.data_inicio) BETWEEN DATE(e.data_inicial) AND DATE(e.data_final)\n",
    "    WHERE \n",
    "        c.subtipo = 'Perturbação do sossego'\n",
    "        AND e.evento IN ('Reveillon', 'Carnaval', 'Rock in Rio')\n",
    "    GROUP BY \n",
    "        e.evento;\n",
    "    '''\n",
    "    df8 = bd.read_sql(query8, billing_project_id)\n",
    "    return df8"
   ]
  },
  {
   "cell_type": "code",
   "execution_count": 94,
   "metadata": {},
   "outputs": [
    {
     "name": "stderr",
     "output_type": "stream",
     "text": [
      "Downloading: 100%|██████████| 3/3 [00:00<00:00,  7.46rows/s]\n"
     ]
    }
   ],
   "source": [
    "# Retrieve the total number of calls for the \"Noise Disturbance\" subtype associated \n",
    "# with specific events between the specified start and end dates\n",
    "answer8 = count_noise_disturbance_calls_per_event('2022-01-01', '2023-12-31')"
   ]
  },
  {
   "cell_type": "code",
   "execution_count": 95,
   "metadata": {},
   "outputs": [
    {
     "data": {
      "text/html": [
       "<div>\n",
       "<style scoped>\n",
       "    .dataframe tbody tr th:only-of-type {\n",
       "        vertical-align: middle;\n",
       "    }\n",
       "\n",
       "    .dataframe tbody tr th {\n",
       "        vertical-align: top;\n",
       "    }\n",
       "\n",
       "    .dataframe thead th {\n",
       "        text-align: right;\n",
       "    }\n",
       "</style>\n",
       "<table border=\"1\" class=\"dataframe\">\n",
       "  <thead>\n",
       "    <tr style=\"text-align: right;\">\n",
       "      <th></th>\n",
       "      <th>evento</th>\n",
       "      <th>total_chamados_evento</th>\n",
       "    </tr>\n",
       "  </thead>\n",
       "  <tbody>\n",
       "    <tr>\n",
       "      <th>0</th>\n",
       "      <td>Rock in Rio</td>\n",
       "      <td>834</td>\n",
       "    </tr>\n",
       "    <tr>\n",
       "      <th>1</th>\n",
       "      <td>Carnaval</td>\n",
       "      <td>241</td>\n",
       "    </tr>\n",
       "    <tr>\n",
       "      <th>2</th>\n",
       "      <td>Reveillon</td>\n",
       "      <td>139</td>\n",
       "    </tr>\n",
       "  </tbody>\n",
       "</table>\n",
       "</div>"
      ],
      "text/plain": [
       "        evento  total_chamados_evento\n",
       "0  Rock in Rio                    834\n",
       "1     Carnaval                    241\n",
       "2    Reveillon                    139"
      ]
     },
     "metadata": {},
     "output_type": "display_data"
    }
   ],
   "source": [
    "# Show the result\n",
    "display(answer8)"
   ]
  },
  {
   "cell_type": "markdown",
   "metadata": {},
   "source": [
    "## **9. Qual evento teve a maior média diária de chamados abertos desse subtipo?**"
   ]
  },
  {
   "cell_type": "code",
   "execution_count": 96,
   "metadata": {},
   "outputs": [],
   "source": [
    "def event_w_highest_daily_avg_calls(start_date: str, end_date: str):\n",
    "    '''\n",
    "    Find the event with the highest daily average of noise disturbance calls.\n",
    "\n",
    "    This function retrieves the event among 'Reveillon', 'Carnaval', and 'Rock in Rio'\n",
    "    that has the highest daily average number of calls for the noise disturbance subtype.\n",
    "    It calculates the average based on the number of calls per day within the given event\n",
    "    period.\n",
    "\n",
    "    Parameters:\n",
    "        start_date (str): The start date of the period to consider (inclusive) in 'YYYY-MM-DD' format.\n",
    "        end_date (str): The end date of the period to consider (inclusive) in 'YYYY-MM-DD' format.\n",
    "\n",
    "    Returns:\n",
    "        DataFrame: A DataFrame containing the event name and its highest daily average calls.\n",
    "    '''\n",
    "    \n",
    "    query9 = f'''\n",
    "    SELECT \n",
    "        e.evento,\n",
    "        ROUND(COUNT(c.id_chamado) / COUNT(DISTINCT DATE(c.data_inicio)), 2) AS media_diaria_chamados\n",
    "    FROM \n",
    "        `datario.adm_central_atendimento_1746.chamado` AS c\n",
    "    JOIN \n",
    "        `datario.turismo_fluxo_visitantes.rede_hoteleira_ocupacao_eventos` AS e\n",
    "    ON \n",
    "        DATE(c.data_inicio) BETWEEN DATE(e.data_inicial) AND DATE(e.data_final)\n",
    "    WHERE \n",
    "        c.subtipo = 'Perturbação do sossego'\n",
    "        AND e.evento IN ('Reveillon', 'Carnaval', 'Rock in Rio')\n",
    "    GROUP BY \n",
    "        e.evento\n",
    "    ORDER BY \n",
    "        media_diaria_chamados DESC\n",
    "    LIMIT 1;\n",
    "    '''\n",
    "    df9 = bd.read_sql(query9, billing_project_id)\n",
    "    return df9"
   ]
  },
  {
   "cell_type": "code",
   "execution_count": 97,
   "metadata": {},
   "outputs": [
    {
     "name": "stderr",
     "output_type": "stream",
     "text": [
      "Downloading: 100%|██████████| 1/1 [00:00<00:00,  2.43rows/s]\n"
     ]
    }
   ],
   "source": [
    "# Find the event with the highest daily average of noise disturbance calls\n",
    "answer9 = event_w_highest_daily_avg_calls('2022-01-01', '2023-12-31')"
   ]
  },
  {
   "cell_type": "code",
   "execution_count": 98,
   "metadata": {},
   "outputs": [
    {
     "data": {
      "text/html": [
       "<div>\n",
       "<style scoped>\n",
       "    .dataframe tbody tr th:only-of-type {\n",
       "        vertical-align: middle;\n",
       "    }\n",
       "\n",
       "    .dataframe tbody tr th {\n",
       "        vertical-align: top;\n",
       "    }\n",
       "\n",
       "    .dataframe thead th {\n",
       "        text-align: right;\n",
       "    }\n",
       "</style>\n",
       "<table border=\"1\" class=\"dataframe\">\n",
       "  <thead>\n",
       "    <tr style=\"text-align: right;\">\n",
       "      <th></th>\n",
       "      <th>evento</th>\n",
       "      <th>media_diaria_chamados</th>\n",
       "    </tr>\n",
       "  </thead>\n",
       "  <tbody>\n",
       "    <tr>\n",
       "      <th>0</th>\n",
       "      <td>Rock in Rio</td>\n",
       "      <td>119.14</td>\n",
       "    </tr>\n",
       "  </tbody>\n",
       "</table>\n",
       "</div>"
      ],
      "text/plain": [
       "        evento  media_diaria_chamados\n",
       "0  Rock in Rio                 119.14"
      ]
     },
     "metadata": {},
     "output_type": "display_data"
    }
   ],
   "source": [
    "# Show the result\n",
    "display(answer9)"
   ]
  },
  {
   "cell_type": "markdown",
   "metadata": {},
   "source": [
    "## **10. Compare as médias diárias de chamados abertos desse subtipo durante os eventos específicos (Reveillon, Carnaval e Rock in Rio) e a média diária de chamados abertos desse subtipo considerando todo o período de 01/01/2022 até 31/12/2023.**"
   ]
  },
  {
   "cell_type": "code",
   "execution_count": 102,
   "metadata": {},
   "outputs": [],
   "source": [
    "def daily_avg_calls_within_and_outside_events(start_date: str, end_date: str):\n",
    "    '''\n",
    "    Compare daily average noise disturbance calls during specific events and the overall period.\n",
    "\n",
    "    This function calculates and compares the daily average number of noise disturbance calls \n",
    "    during the 'Reveillon', 'Carnaval', and 'Rock in Rio' events with the daily average for \n",
    "    the entire period from the specified start date to the end date. It uses SQL queries to \n",
    "    aggregate the number of calls and days for each event and the total period.\n",
    "\n",
    "    Parameters:\n",
    "        start_date (str): The start date of the period to consider (inclusive) in 'YYYY-MM-DD' format.\n",
    "        end_date (str): The end date of the period to consider (inclusive) in 'YYYY-MM-DD' format.\n",
    "\n",
    "    Returns:\n",
    "        DataFrame: A DataFrame containing the period description ('Total Geral' for the overall period \n",
    "                   and event names for the specific events) and their corresponding daily average calls.\n",
    "    '''\n",
    "    query10 = '''\n",
    "    WITH total_chamados AS (\n",
    "    SELECT \n",
    "        COUNT(*) AS total_chamados,\n",
    "        COUNT(DISTINCT DATE(data_inicio)) AS total_dias\n",
    "    FROM \n",
    "        `datario.adm_central_atendimento_1746.chamado`\n",
    "    WHERE \n",
    "        subtipo = 'Perturbação do sossego'\n",
    "        AND DATE(data_inicio) BETWEEN '2022-01-01' AND '2023-12-31'\n",
    "),\n",
    "eventos_chamados AS (\n",
    "    SELECT \n",
    "        e.evento,\n",
    "        COUNT(c.id_chamado) AS total_chamados_evento,\n",
    "        COUNT(DISTINCT DATE(c.data_inicio)) AS total_dias_evento\n",
    "    FROM \n",
    "        `datario.adm_central_atendimento_1746.chamado` AS c\n",
    "    JOIN \n",
    "        `datario.turismo_fluxo_visitantes.rede_hoteleira_ocupacao_eventos` AS e\n",
    "    ON \n",
    "        DATE(c.data_inicio) BETWEEN DATE(e.data_inicial) AND DATE(e.data_final)\n",
    "    WHERE \n",
    "        c.subtipo = 'Perturbação do sossego'\n",
    "        AND e.evento IN ('Reveillon', 'Carnaval', 'Rock in Rio')\n",
    "    GROUP BY \n",
    "        e.evento\n",
    ")\n",
    "SELECT \n",
    "    'Total Geral' AS periodo,\n",
    "    ROUND(total_chamados.total_chamados / total_chamados.total_dias, 2) AS media_diaria\n",
    "FROM \n",
    "    total_chamados\n",
    "UNION ALL\n",
    "SELECT \n",
    "    evento,\n",
    "    ROUND(total_chamados_evento / total_dias_evento, 2) AS media_diaria\n",
    "FROM \n",
    "    eventos_chamados;\n",
    "    '''\n",
    "\n",
    "    df10 = bd.read_sql(query10, billing_project_id)\n",
    "    return df10"
   ]
  },
  {
   "cell_type": "code",
   "execution_count": 103,
   "metadata": {},
   "outputs": [
    {
     "name": "stderr",
     "output_type": "stream",
     "text": [
      "Downloading: 100%|██████████| 4/4 [00:00<00:00, 10.60rows/s]\n"
     ]
    }
   ],
   "source": [
    "# Calculate and compare the daily average of noise disturbance calls during specific events\n",
    "# ('Reveillon', 'Carnaval', 'Rock in Rio') with the overall daily average for the entire period \n",
    "# from January 1, 2022, to December 31, 2023\n",
    "answer10 = daily_avg_calls_within_and_outside_events('2022-01-01', '2023-12-31')"
   ]
  },
  {
   "cell_type": "code",
   "execution_count": 101,
   "metadata": {},
   "outputs": [
    {
     "data": {
      "text/html": [
       "<div>\n",
       "<style scoped>\n",
       "    .dataframe tbody tr th:only-of-type {\n",
       "        vertical-align: middle;\n",
       "    }\n",
       "\n",
       "    .dataframe tbody tr th {\n",
       "        vertical-align: top;\n",
       "    }\n",
       "\n",
       "    .dataframe thead th {\n",
       "        text-align: right;\n",
       "    }\n",
       "</style>\n",
       "<table border=\"1\" class=\"dataframe\">\n",
       "  <thead>\n",
       "    <tr style=\"text-align: right;\">\n",
       "      <th></th>\n",
       "      <th>periodo</th>\n",
       "      <th>media_diaria</th>\n",
       "    </tr>\n",
       "  </thead>\n",
       "  <tbody>\n",
       "    <tr>\n",
       "      <th>0</th>\n",
       "      <td>Total Geral</td>\n",
       "      <td>61.98</td>\n",
       "    </tr>\n",
       "    <tr>\n",
       "      <th>1</th>\n",
       "      <td>Carnaval</td>\n",
       "      <td>60.25</td>\n",
       "    </tr>\n",
       "    <tr>\n",
       "      <th>2</th>\n",
       "      <td>Rock in Rio</td>\n",
       "      <td>119.14</td>\n",
       "    </tr>\n",
       "    <tr>\n",
       "      <th>3</th>\n",
       "      <td>Reveillon</td>\n",
       "      <td>46.33</td>\n",
       "    </tr>\n",
       "  </tbody>\n",
       "</table>\n",
       "</div>"
      ],
      "text/plain": [
       "       periodo  media_diaria\n",
       "0  Total Geral         61.98\n",
       "1     Carnaval         60.25\n",
       "2  Rock in Rio        119.14\n",
       "3    Reveillon         46.33"
      ]
     },
     "metadata": {},
     "output_type": "display_data"
    }
   ],
   "source": [
    "# Show the result\n",
    "display(answer10)"
   ]
  }
 ],
 "metadata": {
  "kernelspec": {
   "display_name": ".my_env",
   "language": "python",
   "name": "python3"
  },
  "language_info": {
   "codemirror_mode": {
    "name": "ipython",
    "version": 3
   },
   "file_extension": ".py",
   "mimetype": "text/x-python",
   "name": "python",
   "nbconvert_exporter": "python",
   "pygments_lexer": "ipython3",
   "version": "3.10.12"
  }
 },
 "nbformat": 4,
 "nbformat_minor": 2
}
